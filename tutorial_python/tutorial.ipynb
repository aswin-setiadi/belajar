{
 "cells": [
  {
   "cell_type": "code",
   "execution_count": 2,
   "metadata": {},
   "outputs": [
    {
     "name": "stdout",
     "output_type": "stream",
     "text": [
      "hello\n"
     ]
    }
   ],
   "source": [
    "class Rectangle:\n",
    "    def __init__(self, length, width):\n",
    "        self.length = length\n",
    "        self.width = width\n",
    "\n",
    "    def area(self):\n",
    "        return self.length * self.width\n",
    "\n",
    "    def perimeter(self):\n",
    "        return 2 * self.length + 2 * self.width\n",
    "    \n",
    "# Here we declare that the Square class inherits from the Rectangle class\n",
    "class Square(Rectangle):\n",
    "    def __init__(self, length):\n",
    "        super().__init__(length, length)\n",
    "\n",
    "square= Square(4)\n",
    "square.area()"
   ]
  },
  {
   "cell_type": "markdown",
   "metadata": {},
   "source": [
    "C:\\Python311\\Scripts\\;C:\\Python311\\;C:\\Users\\aswin\\AppData\\Roaming\\Python\\Python310;C:\\Program \n",
    "Files\\Python310\\;\n",
    "C:\\Program Files\\Python310\\Scripts\\;\n",
    "C:\\Program Files (x86)\\Razer Chroma SDK\\bin;\n",
    "C:\\Program Files\\Razer Chroma SDK\\bin;\n",
    "C:\\Program Files (x86)\\Razer\\ChromaBroadcast\\bin;\n",
    "C:\\Program Files\\Razer\\ChromaBroadcast\\bin;\n",
    "C:\\Python27\\;\n",
    "C:\\Python27\\Scripts;\n",
    "C:\\ProgramData\\Oracle\\Java\\javapath;\n",
    "C:\\WINDOWS\\system32;\n",
    "C:\\WINDOWS;\n",
    "C:\\WINDOWS\\System32\\Wbem;C:\\WINDOWS\\System32\\WindowsPowerShell\\v1.0\\;C:\\Program Files (x86)\\ATI Technologies\\ATI.ACE\\Core-Static;C:\\Program Files (x86)\\AMD\\ATI.ACE\\Core-Static;D:\\Program Files (x86)\\QuickTime\\QTSystem\\;D:\\Program Files (x86)\\Heroku\\bin;C:\\Program Files (x86)\\git\\cmd;C:\\Program Files (x86)\\Git\\cmd;C:\\Program Files (x86)\\Shoes;C:\\Program Files (x86)\\Skype\\Phone\\;C:\\WINDOWS\\System32\\OpenSSH\\;C:\\Android;C:\\Windows\\System32;C:\\WINDOWS\\system32\\config\\systemprofile\\AppData\\Local\\Microsoft\\WindowsApps;C:\\Program \n",
    "Files (x86)\\NVIDIA Corporation\\PhysX\\Common;C:\\Program Files\\NVIDIA Corporation\\NVIDIA NvDLISR;C:\\Program Files (x86)\\ZeroTier\\One\\;\n",
    "D:\\Program Files\\nodejs\\;\n",
    "C:\\ProgramData\\chocolatey\\bin;\n",
    "C:\\Users\\aswin\\AppData\\Roaming\\Python\\Python310;\n",
    "C:\\Program Files\\Python310;\n",
    "C:\\Users\\aswin\\AppData\\Local\\Microsoft\\WindowsApps;\n",
    "D:\\Program Files\\Microsoft VS Code\\bin;\n",
    "C:\\Users\\aswin\\AppData\\Roaming\\npm"
   ]
  }
 ],
 "metadata": {
  "kernelspec": {
   "display_name": "Python 3",
   "language": "python",
   "name": "python3"
  },
  "language_info": {
   "codemirror_mode": {
    "name": "ipython",
    "version": 3
   },
   "file_extension": ".py",
   "mimetype": "text/x-python",
   "name": "python",
   "nbconvert_exporter": "python",
   "pygments_lexer": "ipython3",
   "version": "3.10.6"
  },
  "orig_nbformat": 4
 },
 "nbformat": 4,
 "nbformat_minor": 2
}
